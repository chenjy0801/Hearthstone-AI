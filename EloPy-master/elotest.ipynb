{
 "cells": [
  {
   "cell_type": "code",
   "execution_count": 9,
   "metadata": {
    "collapsed": true
   },
   "outputs": [],
   "source": [
    "from elopy import *\n",
    "\n",
    "i = Implementation()"
   ]
  },
  {
   "cell_type": "code",
   "execution_count": 6,
   "metadata": {},
   "outputs": [
    {
     "name": "stdout",
     "output_type": "stream",
     "text": [
      "1000 900\n",
      "[('Bill', 900)]\n"
     ]
    }
   ],
   "source": [
    "i.addPlayer(\"Hank\") #default ranking is 1000\n",
    "i.addPlayer(\"Bill\",rating=900)\n",
    "\n",
    "print(i.getPlayerRating(\"Hank\"), i.getPlayerRating(\"Bill\"))\n",
    "\n",
    "i.removePlayer(\"Hank\")\n",
    "\n",
    "print(i.getRatingList())"
   ]
  },
  {
   "cell_type": "code",
   "execution_count": 12,
   "metadata": {},
   "outputs": [
    {
     "name": "stdout",
     "output_type": "stream",
     "text": [
      "[('Hank', 1077.979740282743), ('Bill', 822.0202597172571), ('Hank', 1000), ('Bill', 900)]\n",
      "[('Hank', 941.298831771491), ('Bill', 958.7011682285092), ('Hank', 1000), ('Bill', 900)]\n",
      "[('Hank', 945.502704650125), ('Bill', 954.4972953498752), ('Hank', 1000), ('Bill', 900)]\n"
     ]
    }
   ],
   "source": [
    "i.addPlayer(\"Hank\") #default ranking is 1000\n",
    "i.addPlayer(\"Bill\",rating=900)\n",
    "\n",
    "i.recordMatch(\"Hank\",\"Bill\",winner=\"Hank\")\n",
    "\n",
    "print(i.getRatingList())\n",
    "\n",
    "i.recordMatch(\"Hank\",\"Bill\",winner=\"Bill\")\n",
    "\n",
    "print(i.getRatingList())\n",
    "\n",
    "i.recordMatch(\"Hank\",\"Bill\",draw=True)\n",
    "\n",
    "print(i.getRatingList())"
   ]
  },
  {
   "cell_type": "code",
   "execution_count": null,
   "metadata": {
    "collapsed": true
   },
   "outputs": [],
   "source": []
  },
  {
   "cell_type": "code",
   "execution_count": null,
   "metadata": {
    "collapsed": true
   },
   "outputs": [],
   "source": []
  },
  {
   "cell_type": "code",
   "execution_count": null,
   "metadata": {
    "collapsed": true
   },
   "outputs": [],
   "source": []
  },
  {
   "cell_type": "code",
   "execution_count": 18,
   "metadata": {
    "collapsed": true
   },
   "outputs": [],
   "source": [
    "from elopy import *\n",
    "\n",
    "i = Implementation()"
   ]
  },
  {
   "cell_type": "code",
   "execution_count": 22,
   "metadata": {
    "collapsed": true
   },
   "outputs": [],
   "source": [
    "i.addPlayer(\"Hank\",rating=1000) #default ranking is 1000\n",
    "i.addPlayer(\"Bill\",rating=-1000)"
   ]
  },
  {
   "cell_type": "code",
   "execution_count": 23,
   "metadata": {},
   "outputs": [
    {
     "name": "stdout",
     "output_type": "stream",
     "text": [
      "[('Hank', 1), ('Bill', 0), ('Hank', 1000), ('Bill', -1000)]\n"
     ]
    }
   ],
   "source": [
    "i.recordMatch(\"Hank\",\"Bill\",winner=\"Hank\")\n",
    "print(i.getRatingList())"
   ]
  },
  {
   "cell_type": "code",
   "execution_count": 24,
   "metadata": {},
   "outputs": [
    {
     "name": "stdout",
     "output_type": "stream",
     "text": [
      "[('Hank', 1), ('Bill', 0), ('Hank', 1000), ('Bill', -1000)]\n"
     ]
    }
   ],
   "source": [
    "i.recordMatch(\"Hank\",\"Bill\",winner=\"Hank\")\n",
    "print(i.getRatingList())"
   ]
  },
  {
   "cell_type": "code",
   "execution_count": null,
   "metadata": {
    "collapsed": true
   },
   "outputs": [],
   "source": []
  },
  {
   "cell_type": "code",
   "execution_count": null,
   "metadata": {
    "collapsed": true
   },
   "outputs": [],
   "source": []
  },
  {
   "cell_type": "code",
   "execution_count": null,
   "metadata": {
    "collapsed": true
   },
   "outputs": [],
   "source": []
  },
  {
   "cell_type": "code",
   "execution_count": null,
   "metadata": {
    "collapsed": true
   },
   "outputs": [],
   "source": []
  },
  {
   "cell_type": "code",
   "execution_count": null,
   "metadata": {
    "collapsed": true
   },
   "outputs": [],
   "source": []
  },
  {
   "cell_type": "code",
   "execution_count": 20,
   "metadata": {
    "collapsed": true
   },
   "outputs": [],
   "source": [
    "list=[]\n",
    "list.append(\"aaaaa\")\n",
    "list.append(\"bbbbb\")\n",
    "list.append(str(max(map(lambda x:x[1], i.getRatingList()[:2]))))\n",
    "\n",
    "file=open(\"test.txt\",\"w\")\n",
    "file.write(\"\\n\".join(list))\n",
    "file.close()"
   ]
  },
  {
   "cell_type": "code",
   "execution_count": null,
   "metadata": {
    "collapsed": true
   },
   "outputs": [],
   "source": []
  },
  {
   "cell_type": "code",
   "execution_count": null,
   "metadata": {
    "collapsed": true
   },
   "outputs": [],
   "source": []
  },
  {
   "cell_type": "code",
   "execution_count": null,
   "metadata": {
    "collapsed": true
   },
   "outputs": [],
   "source": []
  },
  {
   "cell_type": "code",
   "execution_count": null,
   "metadata": {
    "collapsed": true
   },
   "outputs": [],
   "source": []
  },
  {
   "cell_type": "code",
   "execution_count": null,
   "metadata": {
    "collapsed": true
   },
   "outputs": [],
   "source": []
  }
 ],
 "metadata": {
  "kernelspec": {
   "display_name": "Python 3",
   "language": "python",
   "name": "python3"
  },
  "language_info": {
   "codemirror_mode": {
    "name": "ipython",
    "version": 3
   },
   "file_extension": ".py",
   "mimetype": "text/x-python",
   "name": "python",
   "nbconvert_exporter": "python",
   "pygments_lexer": "ipython3",
   "version": "3.6.5"
  }
 },
 "nbformat": 4,
 "nbformat_minor": 2
}
