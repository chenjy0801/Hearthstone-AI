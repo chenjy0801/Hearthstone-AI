{
 "cells": [
  {
   "cell_type": "code",
   "execution_count": 7,
   "metadata": {},
   "outputs": [],
   "source": [
    "dict1_field = {\n",
    "    \n",
    "    \"Eleven Archer\":{\"atk\":1,\"max_health\":1,\"has_deathrattle\":0,\"divine_shield\":0,\"taunt\":0,\"stealthed\":0,\"silenced\":0},\n",
    "    \n",
    "    \"Northshire Ckeric\":{\"atk\":1,\"max_health\":3,\"has_deathrattle\":0,\"divine_shield\":0,\"taunt\":0,\"stealthed\":0,\"silenced\":0},\n",
    "    \n",
    "    \"Voodoo Doctor\":{\"atk\":2,\"max_health\":1,\"has_deathrattle\":0,\"divine_shield\":0,\"taunt\":0,\"stealthed\":0,\"silenced\":0},\n",
    "    \n",
    "    \"Bloodfen Raptor\":{\"atk\":3,\"max_health\":2,\"has_deathrattle\":0,\"divine_shield\":0,\"taunt\":0,\"stealthed\":0,\"silenced\":0},\n",
    "    \n",
    "    \"Frostwolf Grunt\":{\"atk\":2,\"max_health\":2,\"has_deathrattle\":0,\"divine_shield\":0,\"taunt\":1,\"stealthed\":0,\"silenced\":0},\n",
    "    \n",
    "    \"Shattered Sun Cleric\":{\"atk\":3,\"max_health\":2,\"has_deathrattle\":0,\"divine_shield\":0,\"taunt\":0,\"stealthed\":0,\"silenced\":0},\n",
    "    \n",
    "    \"Silverback Patriarch\":{\"atk\":1,\"max_health\":4,\"has_deathrattle\":0,\"divine_shield\":0,\"taunt\":1,\"stealthed\":0,\"silenced\":0},\n",
    "    \n",
    "    \"Chillwind Yeti\":{\"atk\":4,\"max_health\":5,\"has_deathrattle\":0,\"divine_shield\":0,\"taunt\":0,\"stealthed\":0,\"silenced\":0},\n",
    "    \n",
    "    \"Senjin Shieldmasta\":{\"atk\":3,\"max_health\":5,\"has_deathrattle\":0,\"divine_shield\":0,\"taunt\":1,\"stealthed\":0,\"silenced\":0},\n",
    "    \n",
    "    \"Gurubashi Berserker\":{\"atk\":2,\"max_health\":7,\"has_deathrattle\":0,\"divine_shield\":0,\"taunt\":0,\"stealthed\":0,\"silenced\":0},\n",
    "    \n",
    "    \"Core Hound\":{\"atk\":9,\"max_health\":5,\"has_deathrattle\":0,\"divine_shield\":0,\"taunt\":0,\"stealthed\":0,\"silenced\":0}\n",
    "\n",
    "}"
   ]
  },
  {
   "cell_type": "code",
   "execution_count": 8,
   "metadata": {},
   "outputs": [],
   "source": [
    "dict1_hand = {\n",
    "    \n",
    "    \"Eleven Archer\":{\"minion\":1, \"atk\":1, \"health\":1, \"has_deathrattle\":0,\"divine_shield\":0,\"taunt\":0,\"weapon\":0,\"spell\":0,\"cost\":1},\n",
    "    \n",
    "    \"Holy Smite\":{\"minion\":0, \"atk\":2, \"health\":0, \"has_deathrattle\":0,\"divine_shield\":0,\"taunt\":0,\"weapon\":0,\"spell\":1,\"cost\":1},\n",
    "    \n",
    "    \"Northshire Ckeric\":{\"minion\":1, \"atk\":1, \"health\":3,\"has_deathrattle\":0,\"divine_shield\":0,\"taunt\":0,\"weapon\":0,\"spell\":0,\"cost\":1},\n",
    "    \n",
    "    \"Power Word: Shield\":{\"minion\":0, \"atk\":0, \"health\":0, \"has_deathrattle\":0,\"divine_shield\":0,\"taunt\":0,\"weapon\":0,\"spell\":1,\"cost\":1},\n",
    "    \n",
    "    \"Voodoo Doctor\":{\"minion\":1, \"atk\":2, \"health\":1, \"has_deathrattle\":0,\"divine_shield\":0,\"taunt\":0,\"weapon\":0,\"spell\":0,\"cost\":1},\n",
    "    \n",
    "    \"Bloodfen Raptor\":{\"minion\":1, \"atk\":3, \"health\":2, \"has_deathrattle\":0,\"divine_shield\":0,\"taunt\":0,\"weapon\":0,\"spell\":0,\"cost\":2},\n",
    "    \n",
    "    \"Divine Spirit\":{\"minion\":0, \"atk\":0, \"health\":0,\"has_deathrattle\":0,\"divine_shield\":0,\"taunt\":0,\"weapon\":0,\"spell\":1,\"cost\":2}, \n",
    "    \n",
    "    \"Frostwolf Grunt\":{\"minion\":1, \"atk\":2, \"health\":2, \"has_deathrattle\":0,\"divine_shield\":0,\"taunt\":1,\"weapon\":0,\"spell\":0,\"cost\":2}, \n",
    "    \n",
    "    \"Mind Blast\":{\"minion\":0, \"atk\":5, \"health\":0, \"has_deathrattle\":0,\"divine_shield\":0,\"taunt\":0,\"weapon\":0,\"spell\":1,\"cost\":2},\n",
    "    \n",
    "    \"Shadow Word: Pain\":{\"minion\":0, \"atk\":0, \"health\":0, \"has_deathrattle\":0,\"divine_shield\":0,\"taunt\":0,\"weapon\":0,\"spell\":1,\"cost\":2},\n",
    "    \n",
    "    \"Shattered Sun Cleric\":{\"minion\":1, \"atk\":3, \"health\":2, \"has_deathrattle\":0,\"divine_shield\":0,\"taunt\":0,\"weapon\":0,\"spell\":0,\"cost\":3},\n",
    "    \n",
    "    \"Silverback Patriarch\":{\"minion\":1, \"atk\":1, \"health\":4, \"has_deathrattle\":0,\"divine_shield\":0,\"taunt\":1,\"weapon\":0,\"spell\":0,\"cost\":3},\n",
    "    \n",
    "    \"Chillwind Yeti\":{\"minion\":1, \"atk\":4, \"health\":5, \"has_deathrattle\":0,\"divine_shield\":0,\"taunt\":0,\"weapon\":0,\"spell\":0,\"cost\":4},\n",
    "    \n",
    "    \"Senjin Shieldmasta\":{\"minion\":1, \"atk\":3, \"health\":5, \"has_deathrattle\":0,\"divine_shield\":0,\"taunt\":1,\"weapon\":0,\"spell\":0,\"cost\":4},\n",
    "    \n",
    "    \"Gurubashi Berserker\":{\"minion\":1, \"atk\":2, \"health\":7, \"has_deathrattle\":0,\"divine_shield\":0,\"taunt\":0,\"weapon\":0,\"spell\":0,\"cost\":5},\n",
    "    \n",
    "    \"Core Hound\":{\"minion\":1, \"atk\":9, \"health\":5, \"has_deathrattle\":0,\"divine_shield\":0,\"taunt\":0,\"weapon\":0,\"spell\":0,\"cost\":7},\n",
    "    \n",
    "    \"Coin\":{\"minion\":0, \"atk\":0, \"health\":0, \"has_deathrattle\":0,\"divine_shield\":0,\"taunt\":0,\"weapon\":0,\"spell\":0,\"cost\":0}\n",
    "    \n",
    "}"
   ]
  },
  {
   "cell_type": "code",
   "execution_count": 9,
   "metadata": {},
   "outputs": [],
   "source": [
    "dict2_field = {\n",
    "    \n",
    "    \"Eleven Archer\":{\"atk\":1,\"max_health\":1,\"has_deathrattle\":0,\"divine_shield\":0,\"taunt\":0,\"stealthed\":0,\"silenced\":0},\n",
    "    \n",
    "    \"Goldshire Footman\":{\"atk\":1,\"max_health\":2,\"has_deathrattle\":0,\"divine_shield\":0,\"taunt\":1,\"stealthed\":0,\"silenced\":0},\n",
    "    \n",
    "    \"Novice Engineer\":{\"atk\":1,\"max_health\":1,\"has_deathrattle\":0,\"divine_shield\":0,\"taunt\":0,\"stealthed\":0,\"silenced\":0},\n",
    "    \n",
    "    \"Bloodfen Raptor\":{\"atk\":3,\"max_health\":2,\"has_deathrattle\":0,\"divine_shield\":0,\"taunt\":0,\"stealthed\":0,\"silenced\":0},\n",
    "    \n",
    "    \"Ironforge Rifleman\":{\"atk\":2,\"max_health\":2,\"has_deathrattle\":0,\"divine_shield\":0,\"taunt\":0,\"stealthed\":0,\"silenced\":0},\n",
    "    \n",
    "    \"Gnomish Inventor\":{\"atk\":2,\"max_health\":4,\"has_deathrattle\":0,\"divine_shield\":0,\"taunt\":0,\"stealthed\":0,\"silenced\":0},\n",
    "    \n",
    "    \"Stormwind Knight\":{\"atk\":1,\"max_health\":4,\"has_deathrattle\":0,\"divine_shield\":0,\"taunt\":0,\"stealthed\":0,\"silenced\":0},\n",
    "    \n",
    "    \"Mechanical Dragonling\":{\"atk\":2,\"max_health\":1,\"has_deathrattle\":0,\"divine_shield\":0,\"taunt\":0,\"stealthed\":0,\"silenced\":0},\n",
    "    \n",
    "    \"Dragonling Mechanic\":{\"atk\":2,\"max_health\":4,\"has_deathrattle\":0,\"divine_shield\":0,\"taunt\":0,\"stealthed\":0,\"silenced\":0},\n",
    "    \n",
    "    \"Nightblade\":{\"atk\":4,\"max_health\":4,\"has_deathrattle\":0,\"divine_shield\":0,\"taunt\":0,\"stealthed\":0,\"silenced\":0},\n",
    "    \n",
    "    \"Stormpike Commando\":{\"atk\":4,\"max_health\":2,\"has_deathrattle\":0,\"divine_shield\":0,\"taunt\":0,\"stealthed\":0,\"silenced\":0}\n",
    "\n",
    "}"
   ]
  },
  {
   "cell_type": "code",
   "execution_count": 10,
   "metadata": {},
   "outputs": [],
   "source": [
    "import ipywidgets as widgets\n",
    "from copy import deepcopy,copy\n",
    "from IPython.display import display\n",
    "import numpy as np"
   ]
  },
  {
   "cell_type": "code",
   "execution_count": 11,
   "metadata": {},
   "outputs": [],
   "source": [
    "class HeroInfo:\n",
    "    def __init__(self):\n",
    "        health = widgets.IntText(\n",
    "            value=30,\n",
    "            description='health',\n",
    "            disabled=False\n",
    "        )\n",
    "\n",
    "        max_mana = widgets.IntText(\n",
    "            value=0,\n",
    "            description='max mana',\n",
    "            disabled=False\n",
    "        )\n",
    "\n",
    "        avail_mana = widgets.IntText(\n",
    "            value=0,\n",
    "            description='avail mana',\n",
    "            disabled=False\n",
    "        )\n",
    "\n",
    "        weapon_useable = power_useable = widgets.Checkbox(\n",
    "            value=False,\n",
    "            description='Weapon',\n",
    "            disabled=False\n",
    "        )\n",
    "        \n",
    "        weapon_damage = widgets.IntText(\n",
    "            value=0,\n",
    "            description='damage',\n",
    "            disabled=False\n",
    "        )\n",
    "\n",
    "        weapon_durability = widgets.IntText(\n",
    "            value=0,\n",
    "            description='duability',\n",
    "            disabled=False\n",
    "        )\n",
    "\n",
    "        power_useable = widgets.Checkbox(\n",
    "            value=True,\n",
    "            description='Power Usable',\n",
    "            disabled=False\n",
    "        )\n",
    "\n",
    "        self.object = widgets.VBox([health, max_mana, avail_mana,weapon_useable,weapon_damage,weapon_durability,power_useable])\n",
    "        \n",
    "    def getobject(self):\n",
    "        return self.object"
   ]
  },
  {
   "cell_type": "code",
   "execution_count": 12,
   "metadata": {},
   "outputs": [],
   "source": [
    "heroinfo1 = HeroInfo().getobject()\n",
    "heroinfo2 = HeroInfo().getobject()"
   ]
  },
  {
   "cell_type": "code",
   "execution_count": 13,
   "metadata": {},
   "outputs": [],
   "source": [
    "fieldV1 = widgets.VBox([widgets.HBox([widgets.Label(str(i),layout=widgets.Layout(width='5%', height='30px')),\n",
    "    widgets.Checkbox(\n",
    "    value=False,\n",
    "    description='',\n",
    "    disabled=False,\n",
    "    layout=widgets.Layout(width='12%', height='10px')\n",
    "),\n",
    "widgets.Dropdown(\n",
    "    options=['Eleven Archer','Northshire Ckeric','Voodoo Doctor','Bloodfen Raptor', 'Frostwolf Grunt','Shattered Sun Cleric','Silverback Patriarch','Chillwind Yeti','Senjin Shieldmasta','Gurubashi Berserker','Core Hound'],\n",
    "    value='Eleven Archer',\n",
    "    description='name:',\n",
    "    disabled=False,\n",
    "    layout=widgets.Layout(width='25%', height='30px')\n",
    "),\n",
    "\n",
    "widgets.IntText(\n",
    "    value=0,\n",
    "    description='atk',\n",
    "    disabled=False,\n",
    "    layout=widgets.Layout(width='20%', height='10px')\n",
    "),\n",
    "widgets.IntText(\n",
    "    value=0,\n",
    "    description='health',\n",
    "    disabled=False,\n",
    "    layout=widgets.Layout(width='20%', height='10px')\n",
    "),\n",
    "widgets.Checkbox(\n",
    "    value=True,\n",
    "    description='can attack',\n",
    "    disabled=False\n",
    ")\n",
    "\n",
    "])\n",
    "    for i in range(7)])"
   ]
  },
  {
   "cell_type": "code",
   "execution_count": 14,
   "metadata": {},
   "outputs": [],
   "source": [
    "fieldV2 = widgets.VBox([widgets.HBox([widgets.Label(str(i),layout=widgets.Layout(width='1%', height='20px')),\n",
    "    widgets.Checkbox(\n",
    "    value=False,\n",
    "    description='',\n",
    "    disabled=False,\n",
    "    layout=widgets.Layout(width='15%', height='10px')\n",
    "),\n",
    "widgets.Dropdown(\n",
    "    options=['Eleven Archer', 'Holy Smite', 'Northshire Ckeric','Power Word: Shield','Voodoo Doctor','Bloodfen Raptor', 'Divine Spirit', 'Frostwolf Grunt', 'Mind Blast','Shadow Word: Pain','Shattered Sun Cleric','Silverback Patriarch','Chillwind Yeti','Senjin Shieldmasta','Gurubashi Berserker','Core Hound','Coin'],\n",
    "    value='Eleven Archer',\n",
    "    description='Field:',\n",
    "    disabled=False,\n",
    ")\n",
    "\n",
    "])\n",
    "    for i in range(10)])"
   ]
  },
  {
   "cell_type": "code",
   "execution_count": 15,
   "metadata": {},
   "outputs": [],
   "source": [
    "fieldV3 = widgets.VBox([widgets.HBox([widgets.Label(str(i),layout=widgets.Layout(width='5%', height='30px')),\n",
    "    widgets.Checkbox(\n",
    "    value=False,\n",
    "    description='',\n",
    "    disabled=False,\n",
    "    layout=widgets.Layout(width='12%', height='10px')\n",
    "),\n",
    "widgets.Dropdown(\n",
    "    options=['Eleven Archer','Goldshire Footman','Novice Engineer','Bloodfen Raptor', 'Ironforge Rifleman','Gnomish Inventor','Stormwind Knight','Mechanical Dragonling','Dragonling Mechanic','Nightblade','Stormpike Commando'],\n",
    "    value='Eleven Archer',\n",
    "    description='name:',\n",
    "    disabled=False,\n",
    "    layout=widgets.Layout(width='25%', height='30px')\n",
    "),\n",
    "\n",
    "widgets.IntText(\n",
    "    value=0,\n",
    "    description='atk',\n",
    "    disabled=False,\n",
    "    layout=widgets.Layout(width='20%', height='10px')\n",
    "),\n",
    "widgets.IntText(\n",
    "    value=0,\n",
    "    description='health',\n",
    "    disabled=False,\n",
    "    layout=widgets.Layout(width='20%', height='10px')\n",
    "),\n",
    "widgets.Checkbox(\n",
    "    value=True,\n",
    "    description='can attack',\n",
    "    disabled=False\n",
    ")\n",
    "\n",
    "])\n",
    "    for i in range(7)])"
   ]
  },
  {
   "cell_type": "code",
   "execution_count": 16,
   "metadata": {},
   "outputs": [],
   "source": [
    "text=widgets.IntText(\n",
    "    value=0,\n",
    "    description='num of card',\n",
    "    disabled=False\n",
    ")"
   ]
  },
  {
   "cell_type": "code",
   "execution_count": 17,
   "metadata": {},
   "outputs": [],
   "source": [
    "p1_accordion = widgets.Accordion(children=[heroinfo1, fieldV1, fieldV2])\n",
    "p1_accordion.set_title(0, 'Hero')\n",
    "p1_accordion.set_title(1, 'Field')\n",
    "p1_accordion.set_title(2, 'Hand')"
   ]
  },
  {
   "cell_type": "code",
   "execution_count": 18,
   "metadata": {},
   "outputs": [],
   "source": [
    "p2_accordion = widgets.Accordion(children=[heroinfo2, fieldV3, text])\n",
    "p2_accordion.set_title(0, 'Hero')\n",
    "p2_accordion.set_title(1, 'Field')\n",
    "p2_accordion.set_title(2, 'Hand')"
   ]
  },
  {
   "cell_type": "code",
   "execution_count": 41,
   "metadata": {},
   "outputs": [
    {
     "data": {
      "application/vnd.jupyter.widget-view+json": {
       "model_id": "24b8e6427fb04cf1b547bba0fc2a9807",
       "version_major": 2,
       "version_minor": 0
      },
      "text/plain": [
       "Tab(children=(Accordion(children=(VBox(children=(IntText(value=30, description='health'), IntText(value=2, des…"
      ]
     },
     "metadata": {},
     "output_type": "display_data"
    }
   ],
   "source": [
    "tab_nest = widgets.Tab()\n",
    "tab_nest.children = [p1_accordion,p2_accordion]\n",
    "tab_nest.set_title(0,'Player1_Priest')\n",
    "tab_nest.set_title(1,'Player2_Rogue')\n",
    "tab_nest"
   ]
  },
  {
   "cell_type": "code",
   "execution_count": null,
   "metadata": {},
   "outputs": [],
   "source": []
  },
  {
   "cell_type": "code",
   "execution_count": 42,
   "metadata": {},
   "outputs": [],
   "source": [
    "s=np.zeros(263)"
   ]
  },
  {
   "cell_type": "code",
   "execution_count": 43,
   "metadata": {},
   "outputs": [],
   "source": [
    "s[5]=1 # P1 class\n",
    "s[16]=1 # P2 class"
   ]
  },
  {
   "cell_type": "code",
   "execution_count": 44,
   "metadata": {},
   "outputs": [],
   "source": [
    "# p1 hero info\n",
    "p1_hero = p1_accordion.children[0].children\n",
    "s[20]=p1_hero[0].value # p1 health\n",
    "s[23]=p1_hero[1].value # p1 max_mana\n",
    "s[25]=p1_hero[2].value # p1 avail mana\n",
    "s[26]=p1_hero[3].value # p1 weapon\n",
    "if s[26] == 1:\n",
    "    s[27]=p1_hero[4].value # p1 weapon damage\n",
    "    s[28]=p1_hero[5].value # p1 weapon dura\n",
    "s[22]=p1_hero[6].value*1 # p1 power usable"
   ]
  },
  {
   "cell_type": "code",
   "execution_count": 45,
   "metadata": {},
   "outputs": [],
   "source": [
    "# p1 field info\n",
    "p1_field = p1_accordion.children[1].children\n",
    "\n",
    "i = 33\n",
    "j = 0\n",
    "\n",
    "for j in range(7):\n",
    "    s[i] = p1_field[j].children[1].value*1 # minion exist\n",
    "    \n",
    "    if s[i] == 1 :\n",
    "        s[i+2] = p1_field[j].children[3].value # atk \n",
    "        s[i+3] = p1_field[j].children[4].value # health\n",
    "        s[i+4] = p1_field[j].children[5].value*1 # can_attack\n",
    "\n",
    "        name = p1_field[j].children[2].value # minion name\n",
    "\n",
    "        s[i+1] = dict1_field[name]['max_health']\n",
    "        s[i+5] = dict1_field[name]['has_deathrattle']\n",
    "        s[i+6] = dict1_field[name]['divine_shield']\n",
    "        s[i+7] = dict1_field[name]['taunt']\n",
    "        s[i+8] = dict1_field[name]['stealthed']\n",
    "        s[i+9] = dict1_field[name]['silenced']\n",
    "\n",
    "        i+=10"
   ]
  },
  {
   "cell_type": "code",
   "execution_count": 46,
   "metadata": {},
   "outputs": [],
   "source": [
    "# p1 hand info\n",
    "p1_hand = p1_accordion.children[2].children\n",
    "\n",
    "i = 173\n",
    "j = 0\n",
    "\n",
    "for j in range(10):\n",
    "    s[i] = p1_hand[j].children[1].value*1 # card y/n\n",
    "    \n",
    "    if s[i] == 1 :\n",
    "        name = p1_hand[j].children[2].value\n",
    "        \n",
    "        s[i+1] = dict1_hand[name]['minion'] #minion\n",
    "        \n",
    "        if s[i+1] == 1:\n",
    "            s[i+2] = dict1_hand[name]['atk']#atk\n",
    "            s[i+2] = dict1_hand[name]['health']#health\n",
    "            s[i+3] = dict1_hand[name]['divine_shield']#divine_shield\n",
    "            s[i+4] = dict1_hand[name]['has_deathrattle']#has_deathrattle\n",
    "            s[i+5] = dict1_hand[name]['taunt']#taunt\n",
    "        s[i+6] = dict1_hand[name]['weapon']#weapon y/n\n",
    "        s[i+7] = dict1_hand[name]['spell']#spell y/n\n",
    "        s[i+8] = dict1_hand[name]['cost']#cost\n",
    "        \n",
    "    i+=9"
   ]
  },
  {
   "cell_type": "code",
   "execution_count": 47,
   "metadata": {},
   "outputs": [],
   "source": [
    "# p2 hero info\n",
    "p2_hero = p2_accordion.children[0].children\n",
    "s[21]=p2_hero[0].value # p2 health\n",
    "s[24]=p2_hero[1].value # p2 max_mana\n",
    "s[29]=p2_hero[3].value # p2 weapon\n",
    "if s[29] == 1:\n",
    "    s[30]=p2_hero[4].value # p2 weapon damage\n",
    "    s[31]=p2_hero[5].value # p2 weapon dura"
   ]
  },
  {
   "cell_type": "code",
   "execution_count": 48,
   "metadata": {},
   "outputs": [],
   "source": [
    "# p2 field info\n",
    "p2_field = p2_accordion.children[1].children\n",
    "\n",
    "i = 103\n",
    "j = 0\n",
    "\n",
    "for j in range(7):\n",
    "    s[i] = p2_field[j].children[1].value*1 # minion exist\n",
    "    \n",
    "    if s[i] == 1 :\n",
    "        s[i+2] = p2_field[j].children[3].value # atk \n",
    "        s[i+3] = p2_field[j].children[4].value # health\n",
    "        s[i+4] = p2_field[j].children[5].value*1 # can_attack\n",
    "\n",
    "        name = p2_field[j].children[2].value # minion name\n",
    "\n",
    "        s[i+1] = dict2_field[name]['max_health']\n",
    "        s[i+5] = dict2_field[name]['has_deathrattle']\n",
    "        s[i+6] = dict2_field[name]['divine_shield']\n",
    "        s[i+7] = dict2_field[name]['taunt']\n",
    "        s[i+8] = dict2_field[name]['stealthed']\n",
    "        s[i+9] = dict2_field[name]['silenced']\n",
    "\n",
    "        i+=10"
   ]
  },
  {
   "cell_type": "code",
   "execution_count": 49,
   "metadata": {},
   "outputs": [],
   "source": [
    "# p2 hand info\n",
    "s[32] = p2_accordion.children[2].value"
   ]
  },
  {
   "cell_type": "code",
   "execution_count": 50,
   "metadata": {},
   "outputs": [
    {
     "data": {
      "text/plain": [
       "array([ 0.,  0.,  0.,  0.,  0.,  1.,  0.,  0.,  0.,  0.,  0.,  0.,  0.,\n",
       "        0.,  0.,  0.,  1.,  0.,  0.,  0., 30., 30.,  1.,  2.,  0.,  2.,\n",
       "        0.,  0.,  0.,  0.,  0.,  0.,  0.,  0.,  0.,  0.,  0.,  0.,  0.,\n",
       "        0.,  0.,  0.,  0.,  0.,  0.,  0.,  0.,  0.,  0.,  0.,  0.,  0.,\n",
       "        0.,  0.,  0.,  0.,  0.,  0.,  0.,  0.,  0.,  0.,  0.,  0.,  0.,\n",
       "        0.,  0.,  0.,  0.,  0.,  0.,  0.,  0.,  0.,  0.,  0.,  0.,  0.,\n",
       "        0.,  0.,  0.,  0.,  0.,  0.,  0.,  0.,  0.,  0.,  0.,  0.,  0.,\n",
       "        0.,  0.,  0.,  0.,  0.,  0.,  0.,  0.,  0.,  0.,  0.,  0.,  0.,\n",
       "        0.,  0.,  0.,  0.,  0.,  0.,  0.,  0.,  0.,  0.,  0.,  0.,  0.,\n",
       "        0.,  0.,  0.,  0.,  0.,  0.,  0.,  0.,  0.,  0.,  0.,  0.,  0.,\n",
       "        0.,  0.,  0.,  0.,  0.,  0.,  0.,  0.,  0.,  0.,  0.,  0.,  0.,\n",
       "        0.,  0.,  0.,  0.,  0.,  0.,  0.,  0.,  0.,  0.,  0.,  0.,  0.,\n",
       "        0.,  0.,  0.,  0.,  0.,  0.,  0.,  0.,  0.,  0.,  0.,  0.,  0.,\n",
       "        0.,  0.,  0.,  0.,  0.,  0.,  0.,  0.,  0.,  0.,  0.,  0.,  0.,\n",
       "        0.,  0.,  0.,  0.,  0.,  0.,  0.,  0.,  0.,  0.,  0.,  0.,  0.,\n",
       "        0.,  0.,  0.,  0.,  0.,  0.,  0.,  0.,  0.,  0.,  0.,  0.,  0.,\n",
       "        0.,  0.,  0.,  0.,  0.,  0.,  0.,  0.,  0.,  0.,  0.,  0.,  0.,\n",
       "        0.,  0.,  0.,  0.,  0.,  0.,  0.,  0.,  0.,  0.,  0.,  0.,  0.,\n",
       "        0.,  0.,  0.,  0.,  0.,  0.,  0.,  0.,  0.,  0.,  0.,  0.,  0.,\n",
       "        0.,  0.,  0.,  0.,  0.,  0.,  0.,  0.,  0.,  0.,  0.,  0.,  0.,\n",
       "        0.,  0.,  0.])"
      ]
     },
     "execution_count": 50,
     "metadata": {},
     "output_type": "execute_result"
    }
   ],
   "source": [
    "s"
   ]
  },
  {
   "cell_type": "code",
   "execution_count": null,
   "metadata": {},
   "outputs": [],
   "source": []
  },
  {
   "cell_type": "code",
   "execution_count": 29,
   "metadata": {},
   "outputs": [],
   "source": [
    "from NNet import NNetWrapper as NNet\n",
    "from Game import YEET"
   ]
  },
  {
   "cell_type": "code",
   "execution_count": 30,
   "metadata": {},
   "outputs": [],
   "source": [
    "g = YEET(is_basic=True)\n",
    "n1 = NNet(g)\n",
    "n1.load_checkpoint('./models/', '82%.pth.tar')"
   ]
  },
  {
   "cell_type": "code",
   "execution_count": 51,
   "metadata": {},
   "outputs": [
    {
     "name": "stderr",
     "output_type": "stream",
     "text": [
      "/home/shared/anaconda3/lib/python3.6/site-packages/torch/nn/functional.py:1320: UserWarning: nn.functional.tanh is deprecated. Use torch.tanh instead.\n",
      "  warnings.warn(\"nn.functional.tanh is deprecated. Use torch.tanh instead.\")\n"
     ]
    },
    {
     "data": {
      "text/plain": [
       "(1, 8)"
      ]
     },
     "execution_count": 51,
     "metadata": {},
     "output_type": "execute_result"
    }
   ],
   "source": [
    "a=n1.predict(s)[0]\n",
    "np.unravel_index(np.argmax(a, axis=None), a.shape)"
   ]
  },
  {
   "cell_type": "code",
   "execution_count": null,
   "metadata": {},
   "outputs": [],
   "source": []
  }
 ],
 "metadata": {
  "kernelspec": {
   "display_name": "Python 3",
   "language": "python",
   "name": "python3"
  },
  "language_info": {
   "codemirror_mode": {
    "name": "ipython",
    "version": 3
   },
   "file_extension": ".py",
   "mimetype": "text/x-python",
   "name": "python",
   "nbconvert_exporter": "python",
   "pygments_lexer": "ipython3",
   "version": "3.6.6"
  }
 },
 "nbformat": 4,
 "nbformat_minor": 2
}
